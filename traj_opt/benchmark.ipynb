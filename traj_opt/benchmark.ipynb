{
 "cells": [
  {
   "cell_type": "code",
   "execution_count": null,
   "id": "a5c2a7bb",
   "metadata": {},
   "outputs": [],
   "source": [
    "import joblib\n",
    "import numpy as np\n",
    "import os\n",
    "import jax\n",
    "from pathlib import Path\n",
    "import mujoco\n",
    "\n",
    "from traj_opt_helper import TrajectoryOptimizer\n",
    "from algorithm import create_algorithm\n",
    "from task import create_task\n",
    "\n",
    "xla_flags = os.environ.get(\"XLA_FLAGS\", \"\")\n",
    "xla_flags += \" --xla_gpu_triton_gemm_any=True\"\n",
    "xla_flags += \" --xla_gpu_deterministic_ops=true\"\n",
    "\n",
    "os.environ[\"XLA_FLAGS\"] = xla_flags\n",
    "\n",
    "print(jax.devices()) "
   ]
  },
  {
   "cell_type": "markdown",
   "id": "e91b43ef",
   "metadata": {},
   "source": [
    "## Trajectory Optimization Benchmarks\n",
    "\n",
    "This notebook helps you run trajectory-optimization benchmarks on a robotics problem and visualize the solution.\n",
    "\n",
    "\n",
    "**Supported sampling-based algorithms:**\n",
    "- MPPI  \n",
    "- MPPI-CMA  \n",
    "- MPPI-CMA Block Diagonal\n",
    "- Predictive Sampling  \n",
    "- CMA-ES  \n",
    "- Randomized Smoothing  \n",
    "- Various Evolution strategies through Evosax\n",
    "\n",
    "**Supported tasks:**\n",
    "\n",
    "*Easy tasks*:\n",
    "- Cartpole  \n",
    "- Inverted Pendulum  \n",
    "- Double Cartpole\n",
    "\n",
    "*Hard tasks (contact-rich)*:\n",
    "- PushT  \n",
    "- Humanoid   \n"
   ]
  },
  {
   "cell_type": "markdown",
   "id": "1299f79b",
   "metadata": {},
   "source": [
    "# Define you algorithm, task, and parameters"
   ]
  },
  {
   "cell_type": "code",
   "execution_count": null,
   "id": "c8373ba3",
   "metadata": {},
   "outputs": [],
   "source": [
    "\n",
    "# algorithms = [\"MPPI\", \"MPPI lr=0.1\", \"MPPI_CMA lr=(1.0, 0.1)\", \"MPPI_CMA lr=(0.1, 0.1)\", \"MPPI_CMA_BD lr=(1.0, 0.1)\", \"MPPI_CMA_BD lr=(0.1, 0.1)\", \"PredictiveSampling\", \"RandomizedSmoothing lr=0.01\", \"CMA-ES\",] # [\"MPPI\",  \"MPPI_CMA lr=(1.0, 0.1)\", \"PredictiveSampling\", \"RandomizedSmoothing lr=0.1\"]\n",
    "algorithms = [\"MPPI\",  \"MPPI_CMA lr=(1.0, 0.1)\", \"PredictiveSampling\", \"RandomizedSmoothing lr=0.01\"]\n",
    "# algorithms = [\"RandomizedSmoothing lr=0.01\"]\n",
    "\n",
    "task_name = \"DoubleCartPole\" # \"CartPole\", \"InvertedPendulum\", \"DoubleCartPole\", \"PushT\", \"HumanoidBalance\", \"HumanoidStandup\"\n",
    "\n",
    "# Experimental parameters:\n",
    "num_trails = 6 # 6\n",
    "max_iterations = 200\n",
    "num_samples = 2048 # 2048\n",
    "sigma_init = 0.3 # 0.3\n",
    "temperature = 0.1\n",
    "horizon = 2.0 # Suggested horizon: 1.0 (for humanoid); 2.0 (for others)\n",
    "\n",
    "# Set this to (horizon/mj_model.opt.timestep) equals to no spline interpolation\n",
    "num_knots = 20 # Suggested num_knots: 200 (for easy tasks: no interpolation);  20 for PushT, and 8 for Humanoid\n",
    "spline = \"zero\" # \"zero\", \"linear\", \"cubic\"\n",
    "run_benchmark = False # running benchmarks or not\n"
   ]
  },
  {
   "cell_type": "markdown",
   "id": "f3bb9568",
   "metadata": {},
   "source": [
    "# Load task (add your own task in task.py)"
   ]
  },
  {
   "cell_type": "code",
   "execution_count": null,
   "id": "bc1a753b",
   "metadata": {},
   "outputs": [],
   "source": [
    "task, mj_model, mj_data = create_task(task_name=task_name)\n",
    "# Python\n",
    "if task.model.opt.disableflags & mujoco.mjtDisableBit.mjDSBL_WARMSTART:\n",
    "    print(\"Warmstart is DISABLED\")\n",
    "else:\n",
    "    print(\"Warmstart is ENABLED\")"
   ]
  },
  {
   "cell_type": "markdown",
   "id": "4b2b8a93",
   "metadata": {},
   "source": [
    "# (Optionally) time the algorithms"
   ]
  },
  {
   "cell_type": "code",
   "execution_count": null,
   "id": "3a9961d3",
   "metadata": {},
   "outputs": [],
   "source": [
    "# from profiler import time_profile, plot_results, time_components, plot_components\n",
    "\n",
    "# algorithm_names = [\"MPPI\", \"MPPI_CMA lr=(1.0, 0.1)\", \"MPPI_CMA_BD lr=(1.0, 0.1)\", \"PredictiveSampling\"]\n",
    "# task_names = [\"CartPole\", \"PushT\", \"DoubleCartPole\", \"Humanoid\"]\n",
    "\n",
    "# # Profile multiple controllers\n",
    "# results = []\n",
    "# components = []\n",
    "# for algorithm_name in algorithm_names:\n",
    "#     for task_name in task_names:\n",
    "#         task, mj_model_profile, mj_data_profile = create_task(task_name)\n",
    "#         controller = create_algorithm(name = algorithm_name,\n",
    "#                                 task = task,\n",
    "#                                 num_samples = 2048,\n",
    "#                                 horizon = 1.0,\n",
    "#                                 num_knots = 25,\n",
    "#                                 spline = \"zero\",\n",
    "#                                 temperature = 1,\n",
    "#                                 noise = 0.3)\n",
    "#         component = time_components(controller, mj_model_profile, mj_data_profile)\n",
    "#         components.append(component)\n",
    "#         result = time_profile(controller, mj_model_profile, mj_data_profile)\n",
    "#         results.append(result)\n",
    "\n",
    "# # # Plot all results\n",
    "# plot_results(results)\n",
    "# plot_components(components)"
   ]
  },
  {
   "cell_type": "markdown",
   "id": "fbfce829",
   "metadata": {},
   "source": [
    "# Run benchmarks\n",
    "* The control trajectory of the best solution will be plotted"
   ]
  },
  {
   "cell_type": "code",
   "execution_count": null,
   "id": "1e77c7c1",
   "metadata": {},
   "outputs": [],
   "source": [
    "if run_benchmark == True:\n",
    "    for algorithm in algorithms:\n",
    "\n",
    "        alg = create_algorithm(name = algorithm, \n",
    "                            task = task,\n",
    "                            num_samples = num_samples,\n",
    "                            horizon = horizon,\n",
    "                            num_knots = num_knots,\n",
    "                            spline = spline,\n",
    "                            temperature = temperature,\n",
    "                            noise = sigma_init)\n",
    "\n",
    "        to = TrajectoryOptimizer(algorithm, alg, mj_model, mj_data)\n",
    "        to.trails(max_iteration=max_iterations, num_trails = num_trails, save_npz=True)\n",
    "else:\n",
    "    alg = create_algorithm(name = \"visualization\", \n",
    "                            task = task,\n",
    "                            num_samples = num_samples,\n",
    "                            horizon = horizon,\n",
    "                            num_knots = num_knots,\n",
    "                            spline = spline,\n",
    "                            temperature = temperature,\n",
    "                            noise = sigma_init)\n",
    "\n",
    "    to = TrajectoryOptimizer(\"visualization\", alg, mj_model, mj_data)"
   ]
  },
  {
   "cell_type": "markdown",
   "id": "e0299947",
   "metadata": {},
   "source": [
    "# Generate convergence plot"
   ]
  },
  {
   "cell_type": "code",
   "execution_count": null,
   "id": "30559a7b",
   "metadata": {},
   "outputs": [],
   "source": [
    "from plot import visualize_optimization_results\n",
    "\n",
    "details = visualize_optimization_results(task, algorithms)"
   ]
  },
  {
   "cell_type": "markdown",
   "id": "2520415b",
   "metadata": {},
   "source": [
    "# Visualize solutions"
   ]
  },
  {
   "cell_type": "code",
   "execution_count": null,
   "id": "b8978c59",
   "metadata": {},
   "outputs": [],
   "source": [
    "# to.visualize_rollout_gif(task, \"MPPI_CMA lr=(1.0, 0.1)\", fps=30, show_reference=False)"
   ]
  },
  {
   "cell_type": "code",
   "execution_count": null,
   "id": "be266949",
   "metadata": {},
   "outputs": [],
   "source": [
    "# to.visualize_rollout_gif(task, \"MPPI\", fps=30, show_reference=False)\n"
   ]
  },
  {
   "cell_type": "code",
   "execution_count": null,
   "id": "3a8d61b5",
   "metadata": {},
   "outputs": [],
   "source": [
    "# to.visualize_rollout_gif(task, \"MPPI_CMA_BD lr=(1.0, 0.1)\", fps=30, show_reference=False)\n"
   ]
  }
 ],
 "metadata": {
  "kernelspec": {
   "display_name": "benchmark",
   "language": "python",
   "name": "python3"
  },
  "language_info": {
   "codemirror_mode": {
    "name": "ipython",
    "version": 3
   },
   "file_extension": ".py",
   "mimetype": "text/x-python",
   "name": "python",
   "nbconvert_exporter": "python",
   "pygments_lexer": "ipython3",
   "version": "3.12.11"
  }
 },
 "nbformat": 4,
 "nbformat_minor": 5
}
